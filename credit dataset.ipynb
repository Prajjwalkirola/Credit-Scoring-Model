{
 "cells": [
  {
   "cell_type": "code",
   "execution_count": null,
   "id": "ba562954-6be0-4ae7-b5db-6d60e51cdff1",
   "metadata": {},
   "outputs": [],
   "source": [
    "## CREDIT SCORING MODEL"
   ]
  },
  {
   "cell_type": "code",
   "execution_count": 1,
   "id": "4ebaa3d2-a149-4ac1-b427-fde5303b2da8",
   "metadata": {},
   "outputs": [],
   "source": [
    "import pandas as pd\n",
    "import numpy as np\n",
    "from sklearn.model_selection import train_test_split\n",
    "from sklearn.ensemble import RandomForestClassifier\n",
    "from sklearn.metrics import accuracy_score, confusion_matrix, classification_report\n",
    "from sklearn.preprocessing import LabelEncoder"
   ]
  },
  {
   "cell_type": "code",
   "execution_count": 2,
   "id": "5c7f0a36-3c90-4472-bcf7-b12fb494bf63",
   "metadata": {},
   "outputs": [
    {
     "name": "stdout",
     "output_type": "stream",
     "text": [
      "True\n"
     ]
    }
   ],
   "source": [
    "import os\n",
    "print(os.path.exists('credit_data.csv'))"
   ]
  },
  {
   "cell_type": "code",
   "execution_count": 3,
   "id": "6d272f50-c5e7-4b83-8096-f7fc6452dbbb",
   "metadata": {},
   "outputs": [],
   "source": [
    "data = pd.read_csv('credit_data.csv')"
   ]
  },
  {
   "cell_type": "code",
   "execution_count": 4,
   "id": "d5be2bb7-fc19-4f91-9b76-58f1e639dcbe",
   "metadata": {},
   "outputs": [
    {
     "name": "stdout",
     "output_type": "stream",
     "text": [
      "  checking_balance  months_loan_duration credit_history    purpose  amount  \\\n",
      "0           < 0 DM                     6       critical   radio/tv    1169   \n",
      "1       1 - 200 DM                    48         repaid   radio/tv    5951   \n",
      "2          unknown                    12       critical  education    2096   \n",
      "3           < 0 DM                    42         repaid  furniture    7882   \n",
      "4           < 0 DM                    24        delayed  car (new)    4870   \n",
      "\n",
      "  savings_balance employment_length  installment_rate personal_status  \\\n",
      "0         unknown           > 7 yrs                 4     single male   \n",
      "1        < 100 DM         1 - 4 yrs                 2          female   \n",
      "2        < 100 DM         4 - 7 yrs                 2     single male   \n",
      "3        < 100 DM         4 - 7 yrs                 2     single male   \n",
      "4        < 100 DM         1 - 4 yrs                 3     single male   \n",
      "\n",
      "  other_debtors  ...                  property age  installment_plan  \\\n",
      "0          none  ...               real estate  67              none   \n",
      "1          none  ...               real estate  22              none   \n",
      "2          none  ...               real estate  49              none   \n",
      "3     guarantor  ...  building society savings  45              none   \n",
      "4          none  ...              unknown/none  53              none   \n",
      "\n",
      "    housing existing_credits  default  dependents  telephone foreign_worker  \\\n",
      "0       own                2        1           1        yes            yes   \n",
      "1       own                1        2           1       none            yes   \n",
      "2       own                1        1           2       none            yes   \n",
      "3  for free                1        1           2       none            yes   \n",
      "4  for free                2        2           2       none            yes   \n",
      "\n",
      "                  job  \n",
      "0    skilled employee  \n",
      "1    skilled employee  \n",
      "2  unskilled resident  \n",
      "3    skilled employee  \n",
      "4    skilled employee  \n",
      "\n",
      "[5 rows x 21 columns]\n"
     ]
    }
   ],
   "source": [
    "print(data.head())\n"
   ]
  },
  {
   "cell_type": "code",
   "execution_count": 5,
   "id": "2740abbc-739c-428e-8cc8-8889510a2f23",
   "metadata": {},
   "outputs": [
    {
     "name": "stdout",
     "output_type": "stream",
     "text": [
      "the no of rows are 1000 and the no of cloumns are 21\n"
     ]
    }
   ],
   "source": [
    "print(\"the no of rows are {} and the no of cloumns are {}\".format(data.shape[0],data.shape[1]))"
   ]
  },
  {
   "cell_type": "code",
   "execution_count": 6,
   "id": "02d86e8c-c860-4dd7-8027-b483755144f2",
   "metadata": {},
   "outputs": [
    {
     "name": "stdout",
     "output_type": "stream",
     "text": [
      "<class 'pandas.core.frame.DataFrame'>\n",
      "RangeIndex: 1000 entries, 0 to 999\n",
      "Data columns (total 21 columns):\n",
      " #   Column                Non-Null Count  Dtype \n",
      "---  ------                --------------  ----- \n",
      " 0   checking_balance      1000 non-null   object\n",
      " 1   months_loan_duration  1000 non-null   int64 \n",
      " 2   credit_history        1000 non-null   object\n",
      " 3   purpose               1000 non-null   object\n",
      " 4   amount                1000 non-null   int64 \n",
      " 5   savings_balance       1000 non-null   object\n",
      " 6   employment_length     1000 non-null   object\n",
      " 7   installment_rate      1000 non-null   int64 \n",
      " 8   personal_status       1000 non-null   object\n",
      " 9   other_debtors         1000 non-null   object\n",
      " 10  residence_history     1000 non-null   int64 \n",
      " 11  property              1000 non-null   object\n",
      " 12  age                   1000 non-null   int64 \n",
      " 13  installment_plan      1000 non-null   object\n",
      " 14  housing               1000 non-null   object\n",
      " 15  existing_credits      1000 non-null   int64 \n",
      " 16  default               1000 non-null   int64 \n",
      " 17  dependents            1000 non-null   int64 \n",
      " 18  telephone             1000 non-null   object\n",
      " 19  foreign_worker        1000 non-null   object\n",
      " 20  job                   1000 non-null   object\n",
      "dtypes: int64(8), object(13)\n",
      "memory usage: 164.2+ KB\n"
     ]
    }
   ],
   "source": [
    "data.info()"
   ]
  },
  {
   "cell_type": "code",
   "execution_count": 7,
   "id": "6c3d8fe8-e84a-4490-94d5-e3ece330bd54",
   "metadata": {},
   "outputs": [
    {
     "data": {
      "text/html": [
       "<div>\n",
       "<style scoped>\n",
       "    .dataframe tbody tr th:only-of-type {\n",
       "        vertical-align: middle;\n",
       "    }\n",
       "\n",
       "    .dataframe tbody tr th {\n",
       "        vertical-align: top;\n",
       "    }\n",
       "\n",
       "    .dataframe thead th {\n",
       "        text-align: right;\n",
       "    }\n",
       "</style>\n",
       "<table border=\"1\" class=\"dataframe\">\n",
       "  <thead>\n",
       "    <tr style=\"text-align: right;\">\n",
       "      <th></th>\n",
       "      <th>count</th>\n",
       "      <th>mean</th>\n",
       "      <th>std</th>\n",
       "      <th>min</th>\n",
       "      <th>25%</th>\n",
       "      <th>50%</th>\n",
       "      <th>75%</th>\n",
       "      <th>max</th>\n",
       "    </tr>\n",
       "  </thead>\n",
       "  <tbody>\n",
       "    <tr>\n",
       "      <th>months_loan_duration</th>\n",
       "      <td>1000.0</td>\n",
       "      <td>20.903</td>\n",
       "      <td>12.058814</td>\n",
       "      <td>4.0</td>\n",
       "      <td>12.0</td>\n",
       "      <td>18.0</td>\n",
       "      <td>24.00</td>\n",
       "      <td>72.0</td>\n",
       "    </tr>\n",
       "    <tr>\n",
       "      <th>amount</th>\n",
       "      <td>1000.0</td>\n",
       "      <td>3271.258</td>\n",
       "      <td>2822.736876</td>\n",
       "      <td>250.0</td>\n",
       "      <td>1365.5</td>\n",
       "      <td>2319.5</td>\n",
       "      <td>3972.25</td>\n",
       "      <td>18424.0</td>\n",
       "    </tr>\n",
       "    <tr>\n",
       "      <th>installment_rate</th>\n",
       "      <td>1000.0</td>\n",
       "      <td>2.973</td>\n",
       "      <td>1.118715</td>\n",
       "      <td>1.0</td>\n",
       "      <td>2.0</td>\n",
       "      <td>3.0</td>\n",
       "      <td>4.00</td>\n",
       "      <td>4.0</td>\n",
       "    </tr>\n",
       "    <tr>\n",
       "      <th>residence_history</th>\n",
       "      <td>1000.0</td>\n",
       "      <td>2.845</td>\n",
       "      <td>1.103718</td>\n",
       "      <td>1.0</td>\n",
       "      <td>2.0</td>\n",
       "      <td>3.0</td>\n",
       "      <td>4.00</td>\n",
       "      <td>4.0</td>\n",
       "    </tr>\n",
       "    <tr>\n",
       "      <th>age</th>\n",
       "      <td>1000.0</td>\n",
       "      <td>35.546</td>\n",
       "      <td>11.375469</td>\n",
       "      <td>19.0</td>\n",
       "      <td>27.0</td>\n",
       "      <td>33.0</td>\n",
       "      <td>42.00</td>\n",
       "      <td>75.0</td>\n",
       "    </tr>\n",
       "    <tr>\n",
       "      <th>existing_credits</th>\n",
       "      <td>1000.0</td>\n",
       "      <td>1.407</td>\n",
       "      <td>0.577654</td>\n",
       "      <td>1.0</td>\n",
       "      <td>1.0</td>\n",
       "      <td>1.0</td>\n",
       "      <td>2.00</td>\n",
       "      <td>4.0</td>\n",
       "    </tr>\n",
       "    <tr>\n",
       "      <th>default</th>\n",
       "      <td>1000.0</td>\n",
       "      <td>1.300</td>\n",
       "      <td>0.458487</td>\n",
       "      <td>1.0</td>\n",
       "      <td>1.0</td>\n",
       "      <td>1.0</td>\n",
       "      <td>2.00</td>\n",
       "      <td>2.0</td>\n",
       "    </tr>\n",
       "    <tr>\n",
       "      <th>dependents</th>\n",
       "      <td>1000.0</td>\n",
       "      <td>1.155</td>\n",
       "      <td>0.362086</td>\n",
       "      <td>1.0</td>\n",
       "      <td>1.0</td>\n",
       "      <td>1.0</td>\n",
       "      <td>1.00</td>\n",
       "      <td>2.0</td>\n",
       "    </tr>\n",
       "  </tbody>\n",
       "</table>\n",
       "</div>"
      ],
      "text/plain": [
       "                       count      mean          std    min     25%     50%  \\\n",
       "months_loan_duration  1000.0    20.903    12.058814    4.0    12.0    18.0   \n",
       "amount                1000.0  3271.258  2822.736876  250.0  1365.5  2319.5   \n",
       "installment_rate      1000.0     2.973     1.118715    1.0     2.0     3.0   \n",
       "residence_history     1000.0     2.845     1.103718    1.0     2.0     3.0   \n",
       "age                   1000.0    35.546    11.375469   19.0    27.0    33.0   \n",
       "existing_credits      1000.0     1.407     0.577654    1.0     1.0     1.0   \n",
       "default               1000.0     1.300     0.458487    1.0     1.0     1.0   \n",
       "dependents            1000.0     1.155     0.362086    1.0     1.0     1.0   \n",
       "\n",
       "                          75%      max  \n",
       "months_loan_duration    24.00     72.0  \n",
       "amount                3972.25  18424.0  \n",
       "installment_rate         4.00      4.0  \n",
       "residence_history        4.00      4.0  \n",
       "age                     42.00     75.0  \n",
       "existing_credits         2.00      4.0  \n",
       "default                  2.00      2.0  \n",
       "dependents               1.00      2.0  "
      ]
     },
     "execution_count": 7,
     "metadata": {},
     "output_type": "execute_result"
    }
   ],
   "source": [
    "data.describe().T"
   ]
  },
  {
   "cell_type": "code",
   "execution_count": 8,
   "id": "9945273e-d187-45f3-a28c-5c64e8f0bc81",
   "metadata": {},
   "outputs": [
    {
     "name": "stdout",
     "output_type": "stream",
     "text": [
      "checking_balance        0\n",
      "months_loan_duration    0\n",
      "credit_history          0\n",
      "purpose                 0\n",
      "amount                  0\n",
      "savings_balance         0\n",
      "employment_length       0\n",
      "installment_rate        0\n",
      "personal_status         0\n",
      "other_debtors           0\n",
      "residence_history       0\n",
      "property                0\n",
      "age                     0\n",
      "installment_plan        0\n",
      "housing                 0\n",
      "existing_credits        0\n",
      "default                 0\n",
      "dependents              0\n",
      "telephone               0\n",
      "foreign_worker          0\n",
      "job                     0\n",
      "dtype: int64\n"
     ]
    }
   ],
   "source": [
    "if data.empty:\n",
    "    print(\"dataset is empty\")\n",
    "else:\n",
    "    print(data.isnull().sum())"
   ]
  },
  {
   "cell_type": "code",
   "execution_count": 9,
   "id": "b3c1df7e-5423-4674-9163-79d04314f06f",
   "metadata": {},
   "outputs": [],
   "source": [
    "numeric_columns = data.select_dtypes(include= [np.number]).columns \n",
    "data[numeric_columns] = data[numeric_columns].fillna(data[numeric_columns].mean())"
   ]
  },
  {
   "cell_type": "code",
   "execution_count": 10,
   "id": "1beefe28-f043-4f62-93e2-6e3ae835b673",
   "metadata": {},
   "outputs": [],
   "source": [
    "categorical_columns = data.select_dtypes(include=[object]).columns\n",
    "label_encoders = {}\n",
    "for col in categorical_columns:\n",
    "    le = LabelEncoder()\n",
    "    data[col] = le.fit_transform(data[col])\n",
    "    label_encoders[col] = le"
   ]
  },
  {
   "cell_type": "code",
   "execution_count": 11,
   "id": "b4680807-98c2-497d-8c09-da44f98fea53",
   "metadata": {},
   "outputs": [
    {
     "name": "stdout",
     "output_type": "stream",
     "text": [
      "checking_balance        int64\n",
      "months_loan_duration    int64\n",
      "credit_history          int64\n",
      "purpose                 int64\n",
      "amount                  int64\n",
      "savings_balance         int64\n",
      "employment_length       int64\n",
      "installment_rate        int64\n",
      "personal_status         int64\n",
      "other_debtors           int64\n",
      "residence_history       int64\n",
      "property                int64\n",
      "age                     int64\n",
      "installment_plan        int64\n",
      "housing                 int64\n",
      "existing_credits        int64\n",
      "default                 int64\n",
      "dependents              int64\n",
      "telephone               int64\n",
      "foreign_worker          int64\n",
      "job                     int64\n",
      "dtype: object\n"
     ]
    }
   ],
   "source": [
    "print(data.dtypes)"
   ]
  },
  {
   "cell_type": "code",
   "execution_count": 12,
   "id": "2659531d-1adc-4e69-b1ef-bc2946acbe06",
   "metadata": {},
   "outputs": [],
   "source": [
    "x = data.drop('credit_history', axis=1)\n",
    "y = data['credit_history']"
   ]
  },
  {
   "cell_type": "code",
   "execution_count": 13,
   "id": "a9a302d3-168d-4e31-97de-443347184982",
   "metadata": {},
   "outputs": [],
   "source": [
    "assert len(x) == len(y), \"mismatch in number of rows between features and target variables\""
   ]
  },
  {
   "cell_type": "code",
   "execution_count": 14,
   "id": "fcde6c84-ff4a-4827-871c-862c9f31e4f6",
   "metadata": {},
   "outputs": [
    {
     "name": "stdout",
     "output_type": "stream",
     "text": [
      "data split successfully!\n"
     ]
    }
   ],
   "source": [
    "try:\n",
    "    x_train, x_test, y_train, y_test=train_test_split(x,y,test_size=0.3, random_state=42)\n",
    "    print(\"data split successfully!\")\n",
    "except Exception as e:\n",
    "    print(f\"error during data split: {e}\")"
   ]
  },
  {
   "cell_type": "code",
   "execution_count": 15,
   "id": "66156997-4f70-4ea3-b462-5eae6f6f3393",
   "metadata": {},
   "outputs": [],
   "source": [
    "clf = RandomForestClassifier(n_estimators=100, random_state=42)"
   ]
  },
  {
   "cell_type": "code",
   "execution_count": 16,
   "id": "992e1544-3987-4198-97d1-9b4f2d79bcf7",
   "metadata": {},
   "outputs": [],
   "source": [
    "try:\n",
    "    clf.fit(x_train, y_train)\n",
    "except ValueError as e:\n",
    "    print(f\"error during model training:{e}\")"
   ]
  },
  {
   "cell_type": "code",
   "execution_count": 17,
   "id": "7fdaa404-d2f7-4c31-a0e8-6026c0133ae3",
   "metadata": {},
   "outputs": [],
   "source": [
    "try:\n",
    "    y_pred = clf.predict(x_test)\n",
    "except  ValueError as e:\n",
    "    print(f\"error during prediction:{e}\")"
   ]
  },
  {
   "cell_type": "code",
   "execution_count": 18,
   "id": "1720e1f6-b8d3-4a51-b2c1-0b5db13bd9b9",
   "metadata": {},
   "outputs": [
    {
     "name": "stdout",
     "output_type": "stream",
     "text": [
      "accuracy: 0.7333333333333333\n",
      "confusion matrix:\n",
      "[[ 62   2   0   0  18]\n",
      " [ 12   0   1   0  10]\n",
      " [  0   1   1   0   5]\n",
      " [  0   0   1   0  14]\n",
      " [ 14   1   0   1 157]]\n",
      "classification report:\n",
      "              precision    recall  f1-score   support\n",
      "\n",
      "           0       0.70      0.76      0.73        82\n",
      "           1       0.00      0.00      0.00        23\n",
      "           2       0.33      0.14      0.20         7\n",
      "           3       0.00      0.00      0.00        15\n",
      "           4       0.77      0.91      0.83       173\n",
      "\n",
      "    accuracy                           0.73       300\n",
      "   macro avg       0.36      0.36      0.35       300\n",
      "weighted avg       0.64      0.73      0.68       300\n",
      "\n"
     ]
    }
   ],
   "source": [
    "try:\n",
    "    accuracy = accuracy_score(y_test, y_pred)\n",
    "    conf_matrix = confusion_matrix(y_test, y_pred)\n",
    "    class_report = classification_report(y_test, y_pred)\n",
    "    print(f'accuracy: {accuracy}')\n",
    "    print('confusion matrix:')\n",
    "    print(conf_matrix)\n",
    "    print('classification report:')\n",
    "    print(class_report)\n",
    "except ValueError as e:\n",
    "    print(f\"error during evaluation:{e}\")"
   ]
  },
  {
   "cell_type": "code",
   "execution_count": null,
   "id": "8bef83ff-324b-4d29-8913-7cf835cc28b5",
   "metadata": {},
   "outputs": [],
   "source": []
  },
  {
   "cell_type": "code",
   "execution_count": null,
   "id": "c3fe7d01-974d-49a0-920f-b25d4e7b712a",
   "metadata": {},
   "outputs": [],
   "source": []
  }
 ],
 "metadata": {
  "kernelspec": {
   "display_name": "Python 3 (ipykernel)",
   "language": "python",
   "name": "python3"
  },
  "language_info": {
   "codemirror_mode": {
    "name": "ipython",
    "version": 3
   },
   "file_extension": ".py",
   "mimetype": "text/x-python",
   "name": "python",
   "nbconvert_exporter": "python",
   "pygments_lexer": "ipython3",
   "version": "3.12.4"
  }
 },
 "nbformat": 4,
 "nbformat_minor": 5
}
